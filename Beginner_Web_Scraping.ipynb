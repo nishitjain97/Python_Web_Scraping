{
 "cells": [
  {
   "cell_type": "markdown",
   "metadata": {},
   "source": [
    "# Python Web Scraping Tutorial\n",
    "### https://hackernoon.com/mastering-python-web-scraping-get-your-data-back-e9a5cc653d88"
   ]
  },
  {
   "cell_type": "markdown",
   "metadata": {},
   "source": [
    "### Requirements\n",
    "    - Python\n",
    "    - Splinter (based on Selenium)\n",
    "    - Pandas\n",
    "    - Chrome"
   ]
  },
  {
   "cell_type": "code",
   "execution_count": 7,
   "metadata": {},
   "outputs": [],
   "source": [
    "\"\"\" The libraries and the virtual browser \"\"\"\n",
    "from splinter import Browser\n",
    "import pandas as pd\n",
    "\n",
    "# Open a browser\n",
    "browser = Browser('chrome')"
   ]
  },
  {
   "cell_type": "code",
   "execution_count": 9,
   "metadata": {},
   "outputs": [],
   "source": [
    "\"\"\" For responsive web pages, set window size to display all elements \"\"\"\n",
    "browser.driver.set_window_size(640, 480)"
   ]
  },
  {
   "cell_type": "code",
   "execution_count": 10,
   "metadata": {
    "collapsed": true
   },
   "outputs": [],
   "source": [
    "\"\"\" Visit a web page in the browser \"\"\"\n",
    "browser.visit('https://www.google.com')"
   ]
  },
  {
   "cell_type": "code",
   "execution_count": 13,
   "metadata": {
    "collapsed": true
   },
   "outputs": [],
   "source": [
    "\"\"\" \n",
    "    Use chrome developer tools to inspect the element that you want to control.\n",
    "    Right click and copy the XPath of the element.\n",
    "    This will be used to control the website.\n",
    "\"\"\"\n",
    "search_bar_xpath = '//*[@id=\"lst-ib\"]'\n",
    "\n",
    "# find_by_xpath returns a list of matched elements\n",
    "search_bar = browser.find_by_xpath(search_bar_xpath)[0]\n",
    "\n",
    "# fill to insert text\n",
    "search_bar.fill(\"CodingStartups.com\")\n",
    "\n",
    "# Now code to click the search button\n",
    "search_button_xpath = '//*[@id=\"tsf\"]/div[2]/div[3]/center/input[1]'\n",
    "search_button = browser.find_by_xpath(search_button_xpath)[0]\n",
    "search_button.click()"
   ]
  },
  {
   "cell_type": "code",
   "execution_count": 23,
   "metadata": {},
   "outputs": [],
   "source": [
    "\"\"\"\n",
    "    Gathering all the titles and links\n",
    "\"\"\"\n",
    "# XPath for first link is //*[#id=\"rso\"]/div'div'div[1]/div/div/h3/a\n",
    "search_results_xpath = '//h3[@class=\"r\"]/a'\n",
    "search_results = browser.find_by_xpath(search_results_xpath)\n",
    "\n",
    "scraped_data = []\n",
    "\n",
    "for search_result in search_results:\n",
    "    title = search_result.text\n",
    "    link = search_result[\"href\"]\n",
    "    scraped_data.append((title, link))"
   ]
  },
  {
   "cell_type": "code",
   "execution_count": 24,
   "metadata": {},
   "outputs": [
    {
     "data": {
      "text/html": [
       "<div>\n",
       "<style>\n",
       "    .dataframe thead tr:only-child th {\n",
       "        text-align: right;\n",
       "    }\n",
       "\n",
       "    .dataframe thead th {\n",
       "        text-align: left;\n",
       "    }\n",
       "\n",
       "    .dataframe tbody tr th {\n",
       "        vertical-align: top;\n",
       "    }\n",
       "</style>\n",
       "<table border=\"1\" class=\"dataframe\">\n",
       "  <thead>\n",
       "    <tr style=\"text-align: right;\">\n",
       "      <th></th>\n",
       "      <th>Title</th>\n",
       "      <th>Link</th>\n",
       "    </tr>\n",
       "  </thead>\n",
       "  <tbody>\n",
       "    <tr>\n",
       "      <th>0</th>\n",
       "      <td>Coding Startups - Coders with entrepreneurial ...</td>\n",
       "      <td>https://codingstartups.com/</td>\n",
       "    </tr>\n",
       "    <tr>\n",
       "      <th>1</th>\n",
       "      <td>Machine Learning for hackers: model comparison...</td>\n",
       "      <td>https://codingstartups.com/machine-learning-ha...</td>\n",
       "    </tr>\n",
       "    <tr>\n",
       "      <th>2</th>\n",
       "      <td>tutorial Archives - Coding Startups</td>\n",
       "      <td>https://codingstartups.com/tag/tutorial/</td>\n",
       "    </tr>\n",
       "    <tr>\n",
       "      <th>3</th>\n",
       "      <td>Prediction Archives - Coding Startups</td>\n",
       "      <td>https://codingstartups.com/category/prediction/</td>\n",
       "    </tr>\n",
       "    <tr>\n",
       "      <th>4</th>\n",
       "      <td>web development Archives - Coding Startups</td>\n",
       "      <td>https://codingstartups.com/tag/web-development/</td>\n",
       "    </tr>\n",
       "    <tr>\n",
       "      <th>5</th>\n",
       "      <td>Web Archives - Coding Startups</td>\n",
       "      <td>https://codingstartups.com/category/web/</td>\n",
       "    </tr>\n",
       "    <tr>\n",
       "      <th>6</th>\n",
       "      <td>Command &amp; Conquer: Startup Law Essentials - Co...</td>\n",
       "      <td>https://codingstartups.com/command-conquer-sta...</td>\n",
       "    </tr>\n",
       "    <tr>\n",
       "      <th>7</th>\n",
       "      <td>technology Archives - Coding Startups</td>\n",
       "      <td>https://codingstartups.com/tag/technology/</td>\n",
       "    </tr>\n",
       "    <tr>\n",
       "      <th>8</th>\n",
       "      <td>CodingStartups - Website | Facebook - 2 Review...</td>\n",
       "      <td>https://www.facebook.com/codingstartups/?ref=p...</td>\n",
       "    </tr>\n",
       "  </tbody>\n",
       "</table>\n",
       "</div>"
      ],
      "text/plain": [
       "                                               Title  \\\n",
       "0  Coding Startups - Coders with entrepreneurial ...   \n",
       "1  Machine Learning for hackers: model comparison...   \n",
       "2                tutorial Archives - Coding Startups   \n",
       "3              Prediction Archives - Coding Startups   \n",
       "4         web development Archives - Coding Startups   \n",
       "5                     Web Archives - Coding Startups   \n",
       "6  Command & Conquer: Startup Law Essentials - Co...   \n",
       "7              technology Archives - Coding Startups   \n",
       "8  CodingStartups - Website | Facebook - 2 Review...   \n",
       "\n",
       "                                                Link  \n",
       "0                        https://codingstartups.com/  \n",
       "1  https://codingstartups.com/machine-learning-ha...  \n",
       "2           https://codingstartups.com/tag/tutorial/  \n",
       "3    https://codingstartups.com/category/prediction/  \n",
       "4    https://codingstartups.com/tag/web-development/  \n",
       "5           https://codingstartups.com/category/web/  \n",
       "6  https://codingstartups.com/command-conquer-sta...  \n",
       "7         https://codingstartups.com/tag/technology/  \n",
       "8  https://www.facebook.com/codingstartups/?ref=p...  "
      ]
     },
     "execution_count": 24,
     "metadata": {},
     "output_type": "execute_result"
    }
   ],
   "source": [
    "\"\"\"\n",
    "    Exporting data to csv file, using pandas\n",
    "\"\"\"\n",
    "df = pd.DataFrame(data=scraped_data, columns=[\"Title\", \"Link\"])\n",
    "df.to_csv(\"links.csv\")\n",
    "df"
   ]
  },
  {
   "cell_type": "code",
   "execution_count": null,
   "metadata": {
    "collapsed": true
   },
   "outputs": [],
   "source": []
  }
 ],
 "metadata": {
  "kernelspec": {
   "display_name": "Python 3",
   "language": "python",
   "name": "python3"
  },
  "language_info": {
   "codemirror_mode": {
    "name": "ipython",
    "version": 3
   },
   "file_extension": ".py",
   "mimetype": "text/x-python",
   "name": "python",
   "nbconvert_exporter": "python",
   "pygments_lexer": "ipython3",
   "version": "3.6.2"
  }
 },
 "nbformat": 4,
 "nbformat_minor": 2
}
